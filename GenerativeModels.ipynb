{
 "cells": [
  {
   "cell_type": "markdown",
   "metadata": {},
   "source": [
    "# Fitting Models to Data:  \n",
    "# Generative Probabilistic Models\n",
    "# and How to Use Them\n",
    "\n",
    "**Hannes Breytenbach**  \n",
    "hannes@saao.ac.za  \n",
    "  \n",
    "* This notebook can be retrieved from [here](http://url)"
   ]
  },
  {
   "cell_type": "markdown",
   "metadata": {},
   "source": [
    "# Introduction"
   ]
  },
  {
   "cell_type": "code",
   "execution_count": null,
   "metadata": {},
   "outputs": [],
   "source": []
  },
  {
   "cell_type": "markdown",
   "metadata": {},
   "source": [
    "# Key Concepts"
   ]
  },
  {
   "cell_type": "markdown",
   "metadata": {},
   "source": [
    "## Probability\n",
    "\n",
    " - Probability is a measure of uncertainty"
   ]
  },
  {
   "cell_type": "markdown",
   "metadata": {},
   "source": [
    "## Distributions\n",
    "> - A way of allocating probability to different events or sets of events\n",
    "- A distribution is uniquely defined by **parameters** \n",
    "<br>\n",
    "<br> \n",
    "\n",
    "### Examples (scipy):\n",
    "![title](scipy_distributions.png)"
   ]
  },
  {
   "cell_type": "markdown",
   "metadata": {},
   "source": [
    "## Parameters  $\\Theta$\n",
    "\n",
    "> - Small set of numbers that \"perfectly\" define a distribution\n",
    "> - Given these numbers I can compute the probability of *any* event occuring\n",
    "<br>\n",
    "\n",
    "eg: Gaussian / Normal probability distribution <br>\n",
    "&emsp;   defined by parameters:\n",
    "- $\\mu$ (*mean*)\n",
    "- $\\sigma$ (*standard deviation*)"
   ]
  },
  {
   "cell_type": "markdown",
   "metadata": {},
   "source": [
    "## Likelihood $\\mathscr{L}$\n",
    "\n",
    "> - Thing that \"inverts\" a distribution\n",
    "> - Likelihood fixes data and varies parameters\n",
    "> - Allows you to answer the question: \n",
    "<br>\n",
    " &emsp; If I have a probability distribution defined by a parameter $\\Theta$, how likely is it that I will observe a data $X$ with the value $x$ when my parameter takes the value $\\theta$ ?\n",
    "\n",
    "$$\\Large \\mathscr{L}\\left(X=x|\\Theta=\\theta\\right)$$\n",
    "\n",
    "- Higher liklihood ==> Distribution is more consistent with observed data"
   ]
  },
  {
   "cell_type": "markdown",
   "metadata": {},
   "source": []
  },
  {
   "cell_type": "markdown",
   "metadata": {},
   "source": [
    "# Fitting Models"
   ]
  },
  {
   "cell_type": "markdown",
   "metadata": {},
   "source": [
    "Load some data.  This data set, and many of the examples below are taken directly from the excellent paper by Hogg+ (2010), see [Additional Resources](#Additional-Resources)"
   ]
  },
  {
   "cell_type": "code",
   "execution_count": 7,
   "metadata": {
    "ExecuteTime": {
     "end_time": "2019-11-07T19:58:03.646409Z",
     "start_time": "2019-11-07T19:58:03.300642Z"
    }
   },
   "outputs": [],
   "source": [
    "from astropy.table import Table\n",
    "\n",
    "data_ascii = \"\"\"\n",
    "| ID   |    x   |   y     |  σ_y   |   σ_x  |    ρ_xy     |       \n",
    "|------|--------|---------|--------|--------|-------------|\n",
    "| 1    | 201    |  592    |  61    |   9    |    -0.84    |       \n",
    "| 2    | 244    |  401    |  25    |   4    |     0.31    |       \n",
    "| 3    | 47     |  583    |  38    |   11   |     0.64    |       \n",
    "| 4    | 287    |  402    |  15    |   7    |    -0.27    |       \n",
    "| 5    | 203    |  495    |  21    |   5    |    -0.33    |       \n",
    "| 6    | 58     |  173    |  15    |   9    |     0.67    |       \n",
    "| 7    | 210    |  479    |  27    |   4    |    -0.02    |       \n",
    "| 8    | 202    |  504    |  14    |   4    |    -0.05    |       \n",
    "| 9    | 198    |  510    |  30    |   11   |    -0.84    |       \n",
    "| 10   | 158    |  416    |  16    |   7    |    -0.69    |       \n",
    "| 11   | 165    |  393    |  14    |   5    |     0.30    |       \n",
    "| 12   | 201    |  442    |  25    |   5    |    -0.46    |       \n",
    "| 13   | 157    |  317    |  52    |   5    |    -0.03    |       \n",
    "| 14   | 131    |  311    |  16    |   6    |     0.50    |       \n",
    "| 15   | 166    |  400    |  34    |   6    |     0.73    |       \n",
    "| 16   | 160    |  337    |  31    |   5    |    -0.52    |       \n",
    "| 17   | 186    |  423    |  42    |   9    |     0.90    |       \n",
    "| 18   | 125    |  334    |  26    |   8    |     0.40    |       \n",
    "| 19   | 218    |  533    |  16    |   6    |    -0.78    |       \n",
    "| 20   | 146    |  344    |  22    |   5    |    -0.56    |       \n",
    "\"\"\"\n",
    "\n",
    "# load the data\n",
    "table = Table.read(data_ascii, format='ascii', delimiter='|')"
   ]
  },
  {
   "cell_type": "code",
   "execution_count": 84,
   "metadata": {
    "ExecuteTime": {
     "end_time": "2019-11-08T03:49:33.341191Z",
     "start_time": "2019-11-08T03:49:32.849540Z"
    }
   },
   "outputs": [
    {
     "data": {
      "image/png": "[encoded data removed]",
      "text/plain": [
       "<Figure size 864x720 with 1 Axes>"
      ]
     },
     "metadata": {},
     "output_type": "display_data"
    }
   ],
   "source": [
    "# Plot the data\n",
    "\n",
    "from matplotlib import pyplot as plt\n",
    "from IPython.display import display\n",
    "\n",
    "def plot_data(table):\n",
    "    fig, ax = plt.subplots(figsize=(12, 10))\n",
    "    ax.errorbar(*table.columns[1:5].values(), fmt='o')\n",
    "    ax.set(xlabel='x', ylabel='y')\n",
    "    ax.grid()\n",
    "    return fig, ax\n",
    "\n",
    "fig, ax = plot_data(table)\n",
    "display(fig)"
   ]
  },
  {
   "cell_type": "markdown",
   "metadata": {},
   "source": [
    "## Standard practice - [Linear regression](https://en.wikipedia.org/wiki/Linear_regression) [sic]\n",
    "<br>\n",
    "\n",
    "Standard weighted least-squares fitting is **only** appropriate when:\n",
    "- there is a dimension along which the data points have negligible uncertainties\n",
    "- another dimension along which all the uncertainties can be described by Gaussians of known variance\n",
    "\n",
    "<br>\n",
    "\n",
    "**NOTE:** These assumptions are very frequently not met in practice!!\n",
    "\n",
    "<br>\n",
    "\n",
    "If theses assumptions hold, we want to find a function of the form \n",
    "\n",
    "$$ \\Large f(x) = mx + b $$\n",
    "that \"*best fits*\" the points.  This is typically done by a linear algebra procedure that can be written mathematically as follows:\n",
    "\n",
    "Given the matrices <br>\n",
    "$Y = \\begin{bmatrix} y_1 \\\\ y_2 \\\\ \\vdots \\\\ y_n \\end{bmatrix}$ &emsp; -- The data we are trying to model\n",
    "<br>\n",
    "$A = \\begin{bmatrix} 1 & x_1 \\\\ 1 & x_2 \\\\ \\vdots & \\vdots \\\\ 1 & x_n\\end{bmatrix}$ -- Coefficient matrix (Independent variables)\n",
    "<br>\n",
    "$C = \\begin{bmatrix} \\sigma^2_{y_1} & 0 & ... & 0 \\\\\n",
    "                       0 & \\sigma^2_{y_2} & ... & 0 \\\\\n",
    "                       & & \\ddots \\\\\n",
    "                       0 & 0 & ...& \\sigma^2_{y_n}\\end{bmatrix}$ -- The Covariance matrix (no covariance amongst points)\n",
    "\n",
    "\n",
    "The best-fit values for the parameters $m$ and $b$ are the components of a column vector\n",
    "\n",
    "$$\\Theta = \\begin{bmatrix} b \\\\ m \\end{bmatrix} = \\left[ A^T C^{-1} A \\right]^{-1} \\left[A^T C^{-1} Y \\right] $$\n",
    "\n",
    "\n",
    "This minimized the objective $\\chi^2$ objective function which gives the *total squared error* scaled by the uncertainties:\n",
    "\n",
    "\n",
    "$$\\chi^2 = \\sum_{i=1}^n \\frac{(y_i - f(x_i))^2}{\\sigma^2_{y_i}} \\equiv \\left[Y - A\\Theta\\right]^T C^{-1} \\left[Y - A\\Theta\\right] $$\n",
    "\n",
    " - $\\chi^2$ is metric distance in the data space (\"Malhanobis distance\")\n"
   ]
  },
  {
   "cell_type": "code",
   "execution_count": 96,
   "metadata": {
    "ExecuteTime": {
     "end_time": "2019-11-08T06:47:38.427279Z",
     "start_time": "2019-11-08T06:47:37.953626Z"
    }
   },
   "outputs": [
    {
     "data": {
      "text/markdown": [
       "### m = 1.077; b = 213.273"
      ],
      "text/plain": [
       "<IPython.core.display.Markdown object>"
      ]
     },
     "metadata": {},
     "output_type": "display_data"
    },
    {
     "data": {
      "image/png": "[encoded data removed]",
      "text/plain": [
       "<Figure size 864x720 with 1 Axes>"
      ]
     },
     "metadata": {},
     "output_type": "display_data"
    }
   ],
   "source": [
    "# Lets apply this procedure\n",
    "# WARNING: THIS IS WRONG - DON'T DO WITH YOUR OWN DATA!!!!!!!!\n",
    "\n",
    "# We ignore the fact that we have uncertainties in x and correlated uncertainties on each point\n",
    "\n",
    "import numpy as np\n",
    "from IPython.display import Markdown\n",
    "\n",
    "def line(θ, x):\n",
    "    m, b = θ\n",
    "    return m * x + b\n",
    "\n",
    "# define the matrices\n",
    "x = np.array(table['x'])\n",
    "y = np.array(table['y'])\n",
    "σ_y = np.array(table['σ_y'])\n",
    "A = np.vstack([x, np.ones(len(x))]).T\n",
    "w = np.diag(1 / σ_y)   # weights\n",
    "\n",
    "# Weighted least squares full data set\n",
    "Θ, *_ = np.linalg.lstsq(w @ A, y @ w, rcond=None)\n",
    "\n",
    "# print parameter values\n",
    "display(Markdown('### m = {:.3f}; b = {:.3f}'.format(*Θ)))\n",
    "\n",
    "# plot the results\n",
    "fig, ax = plot_data(table)\n",
    "ax.set_autoscale_on(False)\n",
    "xp = np.linspace(*ax.get_xlim())\n",
    "ax.plot(xp, line(Θ, xp))\n",
    "display(fig)"
   ]
  },
  {
   "cell_type": "code",
   "execution_count": 91,
   "metadata": {
    "ExecuteTime": {
     "end_time": "2019-11-08T05:11:01.536466Z",
     "start_time": "2019-11-08T05:11:00.934330Z"
    }
   },
   "outputs": [
    {
     "data": {
      "text/markdown": [
       "### Partial: m = 2.240; b = 34.048"
      ],
      "text/plain": [
       "<IPython.core.display.Markdown object>"
      ]
     },
     "metadata": {},
     "output_type": "display_data"
    },
    {
     "data": {
      "image/png": "[encoded data removed]",
      "text/plain": [
       "<Figure size 864x720 with 1 Axes>"
      ]
     },
     "metadata": {},
     "output_type": "display_data"
    }
   ],
   "source": [
    "# We can also cheat and ignore some data to get a fit that better represents the underlying trend\n",
    "# THIS IS SUBJECTIVE - YOU SHOULD NEVER DO THIS IN PRACTICE\n",
    "\n",
    "# Weighted least squares partial data set (ignoring the first 4 points)\n",
    "Θ_part, *_ = np.linalg.lstsq(w[4:, 4:] @ A[4:], y[4:] @ w[4:, 4:], rcond=None)\n",
    "\n",
    "display(Markdown('### Partial: m = {:.3f}; b = {:.3f}'.format(*Θ_part)))\n",
    "# plot the results\n",
    "fig, ax = plot_data(table[4:])\n",
    "ax.set_autoscale_on(False)\n",
    "xp = np.linspace(*ax.get_xlim())\n",
    "ax.plot(xp, line(Θ_part, xp))\n",
    "display(fig)"
   ]
  },
  {
   "cell_type": "markdown",
   "metadata": {},
   "source": [
    " ### Objective functions\n",
    " \n",
    " - I the example above we made a choice of *objective function* using $\\chi^2$ to represent \"goodness of fit\"\n",
    " - There are many possible choices, but....\n",
    " - The only procedure that is truly justified* is to make a **generative model** for the data.\n",
    " - A generative model is a parameterized, quantitative description of a statistical procedure that could reasonably have generated the data\n",
    " \n",
    " *in the sense that it leads to interpretable probabilistic inference\n",
    " "
   ]
  },
  {
   "cell_type": "markdown",
   "metadata": {},
   "source": [
    "## Generative Models   $\\mathscr{M}$\n",
    "<br>\n",
    "\n",
    "- If our data really do come from a straight line, and the *only* reason it deviates from the straight line is because some offset (noise) coming from a <br>\n",
    "Gaussian $\\mathscr{N}(0, \\sigma_{y_i})$ has been added to each data point $y_i$, then we have the likelihood:\n",
    "<br>\n",
    "$$ P(y_i | x_i, \\sigma_{y_i}, m, b) = \\frac{1}{\\sqrt{2\\pi} \\sigma_{y_i}} \\exp \\left( -\\frac{(y_i - mx_i - b)^2}{2 \\sigma^2_{y_i}} \\right)$$\n",
    "\n",
    "- This gives the probability of getting a value for $y_i$ within the infinetesimal interval $[y_i, y_i + dy]$\n",
    "- This *generative model* provides a natural, justified objective:  \n",
    "> We seek the line that maximizes the probability of observing the data. --> This is the *Maximum likelihood principle*\n",
    "\n",
    "<br>\n",
    "Working with a single data point is not that useful! <br>\n",
    "In our generative model, each data point is independent of the others, so the total likelihood is the product of likelihoods of individual points\n",
    "<br>\n",
    "\n",
    "$$ \\mathscr{L} = \\prod_{i=1}^n p(y_i | x_i, \\sigma_{y_i}, m, b)$$\n",
    "Taking the logarithm\n",
    "$$ \\ln \\mathscr{L} = k - \\sum^n_{i=1} \\frac{(y_i - mx_i - b)^2}{2 \\sigma^2_{y_i}} $$\n",
    "$$ = k - \\frac{1}{2} \\chi^2 $$\n",
    "\n",
    "The last equation shows that the *maximum likelihood* value of our parameters corresponds to the least squares result **under the assumptions above**"
   ]
  },
  {
   "cell_type": "markdown",
   "metadata": {},
   "source": [
    "## Going Bayesian\n",
    "<br>\n",
    "\n",
    "The Bayesian generalization of our likelihood maximization can be written down via [Bayes Theorem](https://en.wikipedia.org/wiki/Bayes%27_theorem)\n",
    "\n",
    "$$ P(m, b | \\bar{y}, I) = \\frac{\\mathscr{L}(\\bar{y}|m, b, I) P(m, b|I)}{Z(\\bar{y}|I)}  $$\n",
    "Or more succinctly:\n",
    "$$ P(\\Theta | \\bar{y}) = \\frac{1}{Z} \\mathscr{L}(\\bar{y}|\\Theta) P(\\Theta) $$ \n",
    "\n",
    "This gives the **posetrior probability distribution** of our model parameters $\\Theta = \\{m, b\\}$ given out data $\\bar{y} = \\{y_i\\}^n_{i=1}$\n",
    "\n",
    " - $ \\mathscr{L}(\\bar{y}|m, b, I) = \\mathscr{L}(\\bar{y}|\\Theta)$  &emsp; is the likelihood as above\n",
    " - $ P(m, b|I) = P(\\Theta) $ &emsp;&emsp;&emsp;&emsp;  is the *prior distribution* on our parameteres - encodes all current knowledge we have about our parameters\n",
    " - $ Z $ &emsp;&emsp;&emsp;&emsp;&emsp;&emsp;&emsp;&emsp;&emsp;&emsp;&emsp;&emsp;&ensp; is a normalization constant (obtained by integrating the numerator over all parameters)"
   ]
  },
  {
   "cell_type": "markdown",
   "metadata": {},
   "source": [
    "# Dealing with outliers\n",
    "<br>\n",
    "\n",
    "- Our dataset contains some obvious outliers\n",
    "- Most justifiable way of dealing with these is to expand our generative model to include them\n",
    "- This is better than pruning outliers by hand - this is subjective and will bias your results\n",
    "\n",
    "<br>\n",
    "\n",
    "We think of our data as being drawn from 2 independent superposed Gaussian distributions: [A Gaussian Mixture Model](https://en.wikipedia.org/wiki/Mixture_model)\n",
    "<br>\n",
    "&emsp;&emsp; - One represents the straight line (foreground) just as before\n",
    "<br>\n",
    "&emsp;&emsp; - The other represents the outliers (background) generated by $\\mathscr{N}(\\mu_b, \\sigma_b)$\n",
    "\n",
    "Given that there is some probability $\\alpha$ that our data is generated by the \"bad\" distribution (the fraction of bad data),\n",
    "<br>\n",
    "the likelihood of our expanded generative model is constructed as:\n",
    "\n",
    "$$ \\mathscr{L} = \\prod_{i=1}^n \\left((1 - \\alpha) p_{fg} + \\alpha p_{bg}\\right)  $$\n",
    "\n",
    "where $p_{fg}$ and $p_{bg}$ are the generative models for our straight line and outliers respectively.\n",
    "<br>\n",
    "Fully expanded our likelihood is now:\n",
    "\n",
    "$$ \\mathscr{L} = \\prod_{i=1}^n \\frac{1}{\\sqrt{2\\pi}} \\left[ \\frac{1 - \\alpha}{\\sigma_{y_i}} \\exp \\left( -\\frac{(y_i - mx_i - b)^2}{2 \\sigma^2_{y_i}} \\right) +\n",
    "                                \\frac{\\alpha}{(\\sigma_{y_i} + \\sigma_b)} \\exp \\left( -\\frac{(y_i - \\mu_b)^2}{2 (\\sigma^2_{y_i} + \\sigma^2_b)} \\right) \\right ]$$\n",
    "\n",
    "<br>                                \n",
    "                                \n",
    "Our new generative model consists of 5 parameters: $ \\Theta = \\{m, b, \\alpha, \\mu_b, \\sigma_b \\} $\n"
   ]
  },
  {
   "cell_type": "markdown",
   "metadata": {},
   "source": [
    "# Using MCMC to sample the posterior distribution\n",
    "<br>\n",
    "\n",
    "For computational convenience, we work with the log-likelihood, and ignore the constant multiplier term\n",
    "\n",
    "$$ \\ln \\mathscr{L} \\propto \\sum_{i=1}^n \\ln \\left[ \\frac{1 - \\alpha}{\\sigma_{y_i}} \\exp \\left( -\\frac{(y_i - mx_i - b)^2}{2 \\sigma^2_{y_i}} \\right) +\n",
    "                                \\frac{\\alpha}{(\\sigma_{y_i} + \\sigma_b)} \\exp \\left( -\\frac{(y_i - \\mu_b)^2}{2 (\\sigma^2_{y_i} + \\sigma^2_b)} \\right) \\right ]$$\n",
    "        \n",
    "<br> \n",
    "We have to choose some prior for our parameters. There are many ways of doing this (which we can't delve into here).  If we know nothing about the distribution of our parameters a good option is to choose uninformative priors: That is distributions that add as little information as possible.\n",
    "\n"
   ]
  },
  {
   "cell_type": "code",
   "execution_count": 188,
   "metadata": {
    "ExecuteTime": {
     "end_time": "2019-11-08T09:22:21.766547Z",
     "start_time": "2019-11-08T09:18:03.454251Z"
    },
    "scrolled": false
   },
   "outputs": [
    {
     "name": "stderr",
     "output_type": "stream",
     "text": [
      "/usr/local/lib/python3.6/dist-packages/ipykernel_launcher.py:17: RuntimeWarning: divide by zero encountered in log\n",
      "/usr/local/lib/python3.6/dist-packages/ipykernel_launcher.py:17: RuntimeWarning: divide by zero encountered in log\n",
      "/usr/local/lib/python3.6/dist-packages/ipykernel_launcher.py:17: RuntimeWarning: divide by zero encountered in log\n",
      "/usr/local/lib/python3.6/dist-packages/ipykernel_launcher.py:28: RuntimeWarning: invalid value encountered in log\n",
      "/usr/local/lib/python3.6/dist-packages/ipykernel_launcher.py:17: RuntimeWarning: divide by zero encountered in log\n",
      "/usr/local/lib/python3.6/dist-packages/ipykernel_launcher.py:28: RuntimeWarning: invalid value encountered in log\n",
      "/usr/local/lib/python3.6/dist-packages/ipykernel_launcher.py:28: RuntimeWarning: invalid value encountered in log\n",
      "/usr/local/lib/python3.6/dist-packages/ipykernel_launcher.py:28: RuntimeWarning: invalid value encountered in log\n"
     ]
    }
   ],
   "source": [
    "from scipy.stats.distributions import norm, uniform, reciprocal as loguniform\n",
    "import multiprocessing as mp\n",
    "import emcee\n",
    "\n",
    "\n",
    "# choose priors\n",
    "priors = dict(\n",
    "    m_prior=uniform(0, 10),\n",
    "    b_prior=uniform(0, 1e3),\n",
    "    α_prior=uniform(0, 1),\n",
    "    μ_prior=uniform(0, 1e3),\n",
    "    σ_prior=loguniform(1e-2, 1e3)\n",
    ")\n",
    "\n",
    "\n",
    "def ln_prior(Θ):\n",
    "    return sum([np.log(prior.pdf(p)) \n",
    "                for prior, p in zip(priors.values(), Θ)])\n",
    "\n",
    "def gaussian_pdf(y, μ, σ):\n",
    "    return np.exp(-0.5 * np.square((y - μ) / σ)) / σ\n",
    "\n",
    "\n",
    "def ln_likelihood(Θ, x, y, σy):\n",
    "    Θfg = Θ[:2]\n",
    "    Θbg = (α, μb, σb) = Θ[2:]\n",
    "    σ = np.sqrt(σy * σy + σb * σb)  # stddev of our outlier generator\n",
    "    ll = np.sum(np.log(((1 - α) / σy) * gaussian_pdf(y, line(Θfg, x), σy) +\n",
    "                       (α / (σy + σb)) * gaussian_pdf(y, μb, σ)))\n",
    "    if not np.isfinite(ll):\n",
    "        return -np.inf\n",
    "    return ll\n",
    "\n",
    "\n",
    "def ln_posterior(Θ, x, y, σy):\n",
    "    return ln_prior(Θ) + ln_likelihood(Θ, x, y, σy)\n",
    "\n",
    "\n",
    "dof = len(priors)  # degrees of freedom\n",
    "n_walkers_per_dof = 4   # this is a good rule of thumb\n",
    "n_walkers = dof * n_walkers_per_dof\n",
    "n_threads = int(mp.cpu_count())\n",
    "\n",
    "# create sampler\n",
    "sampler = emcee.EnsembleSampler(n_walkers, dof, ln_posterior,\n",
    "                                args=(x, y, σ_y), threads=n_threads)\n",
    "\n",
    "# randomized initial guesses for parameters\n",
    "p0 = np.random.rand(n_walkers, dof)\n",
    "#p0 = np.array([param.rvs(n_walkers) for param in priors.values()]).T\n",
    "\n",
    "# burn in\n",
    "n_burn = 1e3\n",
    "pos, prob, state = sampler.run_mcmc(p0, n_burn)\n",
    "sampler.reset()\n",
    "\n",
    "# sample posterior\n",
    "n_samples = 1e4\n",
    "pos, prob, state = sampler.run_mcmc(p0, n_samples)"
   ]
  },
  {
   "cell_type": "markdown",
   "metadata": {},
   "source": [
    "# Additional Resources\n",
    "<br>\n",
    "\n",
    "### Review Papers\n",
    "1. [Data analysis recipes: Fitting a model to data](https://ui.adsabs.harvard.edu/abs/2010arXiv1008.4686H/abstract) <br>Hogg+ (2010)\n",
    "2. [Data Analysis Recipes: Using Markov Chain Monte Carlo](https://ui.adsabs.harvard.edu/abs/2018ApJS..236...11H/abstract)<br>Hogg & Foreman-Mackey (2018)\n",
    "3. [Bayes in the sky: Bayesian inference and model selection in cosmology](https://ui.adsabs.harvard.edu/abs/2008ConPh..49...71T/abstract) <br> Trotta (2008)\n",
    "\n",
    "<br>\n",
    "\n",
    "### Tutorials\n",
    "1. [emcee](https://emcee.readthedocs.io/en/stable/tutorials/line/)\n",
    "\n",
    "<br>\n",
    "\n",
    "### Textbooks\n",
    "1. [Probabilistic Programming & Bayesian Methods for Hackers](http://camdavidsonpilon.github.io/Probabilistic-Programming-and-Bayesian-Methods-for-Hackers/)\n",
    "\n",
    "\n",
    "<br>\n",
    "\n",
    "### Talks\n",
    "\n",
    "1. [All About that Bayes: Probability, Statistics, and the Quest to Quantify Uncertainty](https://www.youtube.com/watch?v=eDMGDhyDxuY) <br> Kristin Lennox"
   ]
  },
  {
   "cell_type": "code",
   "execution_count": null,
   "metadata": {},
   "outputs": [],
   "source": []
  }
 ],
 "metadata": {
  "kernelspec": {
   "display_name": "Python 3",
   "language": "python",
   "name": "python3"
  },
  "language_info": {
   "codemirror_mode": {
    "name": "ipython",
    "version": 3
   },
   "file_extension": ".py",
   "mimetype": "text/x-python",
   "name": "python",
   "nbconvert_exporter": "python",
   "pygments_lexer": "ipython3",
   "version": "3.6.8"
  },
  "varInspector": {
   "cols": {
    "lenName": 16,
    "lenType": 16,
    "lenVar": 40
   },
   "kernels_config": {
    "python": {
     "delete_cmd_postfix": "",
     "delete_cmd_prefix": "del ",
     "library": "var_list.py",
     "varRefreshCmd": "print(var_dic_list())"
    },
    "r": {
     "delete_cmd_postfix": ") ",
     "delete_cmd_prefix": "rm(",
     "library": "var_list.r",
     "varRefreshCmd": "cat(var_dic_list()) "
    }
   },
   "oldHeight": 402,
   "position": {
    "height": "40px",
    "left": "1571.09px",
    "right": "20px",
    "top": "120px",
    "width": "273.906px"
   },
   "types_to_exclude": [
    "module",
    "function",
    "builtin_function_or_method",
    "instance",
    "_Feature"
   ],
   "varInspector_section_display": "none",
   "window_display": true
  }
 },
 "nbformat": 4,
 "nbformat_minor": 2
}
